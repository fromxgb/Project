{
 "cells": [
  {
   "cell_type": "markdown",
   "id": "ARoAqlMbArNx",
   "metadata": {
    "id": "ARoAqlMbArNx"
   },
   "source": [
    "# Проект\n",
    "\n",
    "**Выполнили:** Галстян Артур Левонович, Мельник Анастасия Романовна, Пазникова Анастасия Андреевна \n"
   ]
  },
  {
   "cell_type": "markdown",
   "id": "23434b16",
   "metadata": {
    "id": "23434b16"
   },
   "source": [
    "## Введение"
   ]
  },
  {
   "cell_type": "markdown",
   "id": "8ce4c5db",
   "metadata": {
    "id": "8ce4c5db"
   },
   "source": [
    "Для данного задания мы взяли датасет, содержащий информацию о фильмах. В этом датасете есть информация о названии фильма, дате выхода, рейтинге, жанре, кратком описании сюжета, съемочной группе, оригинальном названии, статусе выпуска, оригинальном языке, бюджете производства, сборах и стране производства. Давайте рассмотрим, что означает каждая колонка в нашем датасете:\n",
    "\n",
    "\n",
    "1.   `names` - название фильма\n",
    "2.   `date_x` - дата выхода фильма\n",
    "3.   `score` - рейтинг фильма\n",
    "4.   `genre` - жанр фильма\n",
    "5.   `overview` - краткое описание сюжета фильма\n",
    "6.   `crew` - список участников съемочной группы\n",
    "7.   `orig_title` - оригинальное название фильма\n",
    "8.   `status` - статус выпуска фильма\n",
    "9.   `orig_lang` - оригинальный язык фильма\n",
    "10.  `budget_x` - бюджет производства фильма\n",
    "11.  `revenue` - сборы фильма\n",
    "12.  `country` - страна производства фильма\n",
    "\n"
   ]
  },
  {
   "cell_type": "markdown",
   "id": "8rxn3jN1RPnd",
   "metadata": {
    "id": "8rxn3jN1RPnd"
   },
   "source": [
    "Данные по каждому фильму предоставляют множество возможностей для анализа, визуализации и выявления закономерностей. Давайте проведем EDA для данного датасета, чтобы узнать больше о фильмах и открыть для себя новые и интересные факты."
   ]
  },
  {
   "cell_type": "code",
   "execution_count": 1,
   "id": "GoBh76nnRREJ",
   "metadata": {
    "id": "GoBh76nnRREJ"
   },
   "outputs": [],
   "source": [
    "# импорт библиотек\n",
    "import random\n",
    "import numpy as np\n",
    "import pandas as pd\n",
    "import scipy.stats as sts\n",
    "import matplotlib.pyplot as plt\n",
    "import seaborn as sns\n",
    "from statsmodels.stats.proportion import proportions_ztest\n",
    "\n",
    "from sklearn.model_selection import train_test_split\n",
    "from sklearn.preprocessing import StandardScaler\n",
    "from sklearn.metrics import mean_absolute_percentage_error\n",
    "from sklearn.linear_model import LinearRegression\n",
    "from sklearn.ensemble import RandomForestRegressor\n",
    "\n",
    "# Отключение некоторых лишних предупреждений\n",
    "import warnings\n",
    "warnings.filterwarnings(\"ignore\")"
   ]
  },
  {
   "cell_type": "markdown",
   "id": "UjvsJBD3ReMF",
   "metadata": {
    "id": "UjvsJBD3ReMF"
   },
   "source": [
    "Загрузим нашу таблицу\n"
   ]
  },
  {
   "cell_type": "code",
   "execution_count": 2,
   "id": "JG7wWzSURbcE",
   "metadata": {
    "colab": {
     "base_uri": "https://localhost:8080/",
     "height": 669
    },
    "id": "JG7wWzSURbcE",
    "outputId": "cbf47a94-50f9-475c-aefc-80068be5f1d3"
   },
   "outputs": [
    {
     "data": {
      "text/html": [
       "<div>\n",
       "<style scoped>\n",
       "    .dataframe tbody tr th:only-of-type {\n",
       "        vertical-align: middle;\n",
       "    }\n",
       "\n",
       "    .dataframe tbody tr th {\n",
       "        vertical-align: top;\n",
       "    }\n",
       "\n",
       "    .dataframe thead th {\n",
       "        text-align: right;\n",
       "    }\n",
       "</style>\n",
       "<table border=\"1\" class=\"dataframe\">\n",
       "  <thead>\n",
       "    <tr style=\"text-align: right;\">\n",
       "      <th></th>\n",
       "      <th>names</th>\n",
       "      <th>date_x</th>\n",
       "      <th>score</th>\n",
       "      <th>genre</th>\n",
       "      <th>overview</th>\n",
       "      <th>crew</th>\n",
       "      <th>orig_title</th>\n",
       "      <th>status</th>\n",
       "      <th>orig_lang</th>\n",
       "      <th>budget_x</th>\n",
       "      <th>revenue</th>\n",
       "      <th>country</th>\n",
       "    </tr>\n",
       "  </thead>\n",
       "  <tbody>\n",
       "    <tr>\n",
       "      <th>0</th>\n",
       "      <td>Creed III</td>\n",
       "      <td>03/02/2023</td>\n",
       "      <td>73.0</td>\n",
       "      <td>Drama, Action</td>\n",
       "      <td>After dominating the boxing world, Adonis Cree...</td>\n",
       "      <td>Michael B. Jordan, Adonis Creed, Tessa Thompso...</td>\n",
       "      <td>Creed III</td>\n",
       "      <td>Released</td>\n",
       "      <td>English</td>\n",
       "      <td>75000000.0</td>\n",
       "      <td>2.716167e+08</td>\n",
       "      <td>AU</td>\n",
       "    </tr>\n",
       "    <tr>\n",
       "      <th>1</th>\n",
       "      <td>Avatar: The Way of Water</td>\n",
       "      <td>12/15/2022</td>\n",
       "      <td>78.0</td>\n",
       "      <td>Science Fiction, Adventure, Action</td>\n",
       "      <td>Set more than a decade after the events of the...</td>\n",
       "      <td>Sam Worthington, Jake Sully, Zoe Saldaña, Neyt...</td>\n",
       "      <td>Avatar: The Way of Water</td>\n",
       "      <td>Released</td>\n",
       "      <td>English</td>\n",
       "      <td>460000000.0</td>\n",
       "      <td>2.316795e+09</td>\n",
       "      <td>AU</td>\n",
       "    </tr>\n",
       "    <tr>\n",
       "      <th>2</th>\n",
       "      <td>The Super Mario Bros. Movie</td>\n",
       "      <td>04/05/2023</td>\n",
       "      <td>76.0</td>\n",
       "      <td>Animation, Adventure, Family, Fantasy, Comedy</td>\n",
       "      <td>While working underground to fix a water main,...</td>\n",
       "      <td>Chris Pratt, Mario (voice), Anya Taylor-Joy, P...</td>\n",
       "      <td>The Super Mario Bros. Movie</td>\n",
       "      <td>Released</td>\n",
       "      <td>English</td>\n",
       "      <td>100000000.0</td>\n",
       "      <td>7.244590e+08</td>\n",
       "      <td>AU</td>\n",
       "    </tr>\n",
       "    <tr>\n",
       "      <th>3</th>\n",
       "      <td>Mummies</td>\n",
       "      <td>01/05/2023</td>\n",
       "      <td>70.0</td>\n",
       "      <td>Animation, Comedy, Family, Adventure, Fantasy</td>\n",
       "      <td>Through a series of unfortunate events, three ...</td>\n",
       "      <td>Óscar Barberán, Thut (voice), Ana Esther Albor...</td>\n",
       "      <td>Momias</td>\n",
       "      <td>Released</td>\n",
       "      <td>Spanish, Castilian</td>\n",
       "      <td>12300000.0</td>\n",
       "      <td>3.420000e+07</td>\n",
       "      <td>AU</td>\n",
       "    </tr>\n",
       "    <tr>\n",
       "      <th>4</th>\n",
       "      <td>Supercell</td>\n",
       "      <td>03/17/2023</td>\n",
       "      <td>61.0</td>\n",
       "      <td>Action</td>\n",
       "      <td>Good-hearted teenager William always lived in ...</td>\n",
       "      <td>Skeet Ulrich, Roy Cameron, Anne Heche, Dr Quin...</td>\n",
       "      <td>Supercell</td>\n",
       "      <td>Released</td>\n",
       "      <td>English</td>\n",
       "      <td>77000000.0</td>\n",
       "      <td>3.409420e+08</td>\n",
       "      <td>US</td>\n",
       "    </tr>\n",
       "  </tbody>\n",
       "</table>\n",
       "</div>"
      ],
      "text/plain": [
       "                         names       date_x  score  \\\n",
       "0                    Creed III  03/02/2023    73.0   \n",
       "1     Avatar: The Way of Water  12/15/2022    78.0   \n",
       "2  The Super Mario Bros. Movie  04/05/2023    76.0   \n",
       "3                      Mummies  01/05/2023    70.0   \n",
       "4                    Supercell  03/17/2023    61.0   \n",
       "\n",
       "                                           genre  \\\n",
       "0                                  Drama, Action   \n",
       "1             Science Fiction, Adventure, Action   \n",
       "2  Animation, Adventure, Family, Fantasy, Comedy   \n",
       "3  Animation, Comedy, Family, Adventure, Fantasy   \n",
       "4                                         Action   \n",
       "\n",
       "                                            overview  \\\n",
       "0  After dominating the boxing world, Adonis Cree...   \n",
       "1  Set more than a decade after the events of the...   \n",
       "2  While working underground to fix a water main,...   \n",
       "3  Through a series of unfortunate events, three ...   \n",
       "4  Good-hearted teenager William always lived in ...   \n",
       "\n",
       "                                                crew  \\\n",
       "0  Michael B. Jordan, Adonis Creed, Tessa Thompso...   \n",
       "1  Sam Worthington, Jake Sully, Zoe Saldaña, Neyt...   \n",
       "2  Chris Pratt, Mario (voice), Anya Taylor-Joy, P...   \n",
       "3  Óscar Barberán, Thut (voice), Ana Esther Albor...   \n",
       "4  Skeet Ulrich, Roy Cameron, Anne Heche, Dr Quin...   \n",
       "\n",
       "                    orig_title     status            orig_lang     budget_x  \\\n",
       "0                    Creed III   Released              English   75000000.0   \n",
       "1     Avatar: The Way of Water   Released              English  460000000.0   \n",
       "2  The Super Mario Bros. Movie   Released              English  100000000.0   \n",
       "3                       Momias   Released   Spanish, Castilian   12300000.0   \n",
       "4                    Supercell   Released              English   77000000.0   \n",
       "\n",
       "        revenue country  \n",
       "0  2.716167e+08      AU  \n",
       "1  2.316795e+09      AU  \n",
       "2  7.244590e+08      AU  \n",
       "3  3.420000e+07      AU  \n",
       "4  3.409420e+08      US  "
      ]
     },
     "execution_count": 2,
     "metadata": {},
     "output_type": "execute_result"
    }
   ],
   "source": [
    "df_movies = pd.read_csv('imdb_movies.csv', sep=',')\n",
    "df_movies.head()"
   ]
  },
  {
   "cell_type": "markdown",
   "id": "6OTcyz2JTSOj",
   "metadata": {
    "id": "6OTcyz2JTSOj"
   },
   "source": [
    "Давайте сначала посмотрим на типы столбцов"
   ]
  },
  {
   "cell_type": "code",
   "execution_count": 3,
   "id": "5i28RiXJTTTP",
   "metadata": {
    "colab": {
     "base_uri": "https://localhost:8080/"
    },
    "id": "5i28RiXJTTTP",
    "outputId": "5a60f92a-d58c-4816-e04e-419fef45694f"
   },
   "outputs": [
    {
     "data": {
      "text/plain": [
       "names          object\n",
       "date_x         object\n",
       "score         float64\n",
       "genre          object\n",
       "overview       object\n",
       "crew           object\n",
       "orig_title     object\n",
       "status         object\n",
       "orig_lang      object\n",
       "budget_x      float64\n",
       "revenue       float64\n",
       "country        object\n",
       "dtype: object"
      ]
     },
     "execution_count": 3,
     "metadata": {},
     "output_type": "execute_result"
    }
   ],
   "source": [
    "df_movies.dtypes"
   ]
  },
  {
   "cell_type": "markdown",
   "id": "FCOX0rqvVr1T",
   "metadata": {
    "id": "FCOX0rqvVr1T"
   },
   "source": [
    "Заметим, что у нас genre должен являться столбцом типа string, а мы сейчас получили, что он типа "
   ]
  },
  {
   "cell_type": "markdown",
   "id": "l3Z9SH1mTWyD",
   "metadata": {
    "id": "l3Z9SH1mTWyD"
   },
   "source": [
    "Количество уникальных значение в каждом столбце"
   ]
  },
  {
   "cell_type": "code",
   "execution_count": 4,
   "id": "HP15VfbeTWda",
   "metadata": {
    "colab": {
     "base_uri": "https://localhost:8080/"
    },
    "id": "HP15VfbeTWda",
    "outputId": "3dc6dee6-4c6c-4c27-9148-bf41db0b4a15"
   },
   "outputs": [
    {
     "data": {
      "text/plain": [
       "names         9660\n",
       "date_x        5688\n",
       "score           79\n",
       "genre         2303\n",
       "overview      9905\n",
       "crew          9927\n",
       "orig_title    9736\n",
       "status           3\n",
       "orig_lang       54\n",
       "budget_x      2316\n",
       "revenue       8227\n",
       "country         60\n",
       "dtype: int64"
      ]
     },
     "execution_count": 4,
     "metadata": {},
     "output_type": "execute_result"
    }
   ],
   "source": [
    "df_movies.nunique()"
   ]
  },
  {
   "cell_type": "markdown",
   "id": "nbukntV1Trqm",
   "metadata": {
    "id": "nbukntV1Trqm"
   },
   "source": [
    "Количество пропусков в каждом столбце"
   ]
  },
  {
   "cell_type": "code",
   "execution_count": 5,
   "id": "Jj1NMmTjTqfs",
   "metadata": {
    "colab": {
     "base_uri": "https://localhost:8080/"
    },
    "id": "Jj1NMmTjTqfs",
    "outputId": "779af766-416f-482a-cb11-3b1180b5e0db"
   },
   "outputs": [
    {
     "data": {
      "text/plain": [
       "names          0\n",
       "date_x         0\n",
       "score          0\n",
       "genre         85\n",
       "overview       0\n",
       "crew          56\n",
       "orig_title     0\n",
       "status         0\n",
       "orig_lang      0\n",
       "budget_x       0\n",
       "revenue        0\n",
       "country        0\n",
       "dtype: int64"
      ]
     },
     "execution_count": 5,
     "metadata": {},
     "output_type": "execute_result"
    }
   ],
   "source": [
    "df_movies.isna().sum()"
   ]
  },
  {
   "cell_type": "markdown",
   "id": "Ar4veFBoT92v",
   "metadata": {
    "id": "Ar4veFBoT92v"
   },
   "source": [
    "Мы видим, что большинство столбцов не имеют пропущенных значений, за исключением столбца \"genre\", в котором 85 пропущенных значений, и столбца \"crew\", в котором 56 пропущенных значений. Это может означать, что не для всех фильмов были указаны жанры и съемочная группа. "
   ]
  },
  {
   "cell_type": "markdown",
   "id": "77dafd2f",
   "metadata": {
    "id": "77dafd2f"
   },
   "source": [
    "## Часть 1: Предварительная обработка\n",
    "\n",
    "Для удобства дальнейшей работы мы решили удалить столбцы с описанием фильма и оригинальное название фильма, так как они нам не пригодятся.\n",
    "\n",
    "Также мы хотим провести анализ жанров, но для этого необходимо разделить жанры, перечисленные в столбце 'genre' через запятую, на отдельные категории и создать для каждого фильма отдельный столбец, в котором будет указано, принадлежит ли фильм к определенному жанру. Мы также занумеруем жанры, чтобы можно было проводить дальнейший анализ.\n",
    "\n",
    "Вот код для удаления столбца с описанием и разделением жанров:\n"
   ]
  },
  {
   "cell_type": "code",
   "execution_count": 6,
   "id": "l2_3nK4FSrJg",
   "metadata": {
    "colab": {
     "base_uri": "https://localhost:8080/",
     "height": 669
    },
    "id": "l2_3nK4FSrJg",
    "outputId": "1fd986ea-f4d8-4877-f1df-aec15aae4666"
   },
   "outputs": [
    {
     "data": {
      "text/html": [
       "<div>\n",
       "<style scoped>\n",
       "    .dataframe tbody tr th:only-of-type {\n",
       "        vertical-align: middle;\n",
       "    }\n",
       "\n",
       "    .dataframe tbody tr th {\n",
       "        vertical-align: top;\n",
       "    }\n",
       "\n",
       "    .dataframe thead th {\n",
       "        text-align: right;\n",
       "    }\n",
       "</style>\n",
       "<table border=\"1\" class=\"dataframe\">\n",
       "  <thead>\n",
       "    <tr style=\"text-align: right;\">\n",
       "      <th></th>\n",
       "      <th>names</th>\n",
       "      <th>date_x</th>\n",
       "      <th>score</th>\n",
       "      <th>genre</th>\n",
       "      <th>crew</th>\n",
       "      <th>status</th>\n",
       "      <th>orig_lang</th>\n",
       "      <th>budget_x</th>\n",
       "      <th>revenue</th>\n",
       "      <th>country</th>\n",
       "    </tr>\n",
       "  </thead>\n",
       "  <tbody>\n",
       "    <tr>\n",
       "      <th>0</th>\n",
       "      <td>Creed III</td>\n",
       "      <td>03/02/2023</td>\n",
       "      <td>73.0</td>\n",
       "      <td>Drama, Action</td>\n",
       "      <td>Michael B. Jordan, Adonis Creed, Tessa Thompso...</td>\n",
       "      <td>Released</td>\n",
       "      <td>English</td>\n",
       "      <td>75000000.0</td>\n",
       "      <td>2.716167e+08</td>\n",
       "      <td>AU</td>\n",
       "    </tr>\n",
       "    <tr>\n",
       "      <th>1</th>\n",
       "      <td>Avatar: The Way of Water</td>\n",
       "      <td>12/15/2022</td>\n",
       "      <td>78.0</td>\n",
       "      <td>Science Fiction, Adventure, Action</td>\n",
       "      <td>Sam Worthington, Jake Sully, Zoe Saldaña, Neyt...</td>\n",
       "      <td>Released</td>\n",
       "      <td>English</td>\n",
       "      <td>460000000.0</td>\n",
       "      <td>2.316795e+09</td>\n",
       "      <td>AU</td>\n",
       "    </tr>\n",
       "    <tr>\n",
       "      <th>2</th>\n",
       "      <td>The Super Mario Bros. Movie</td>\n",
       "      <td>04/05/2023</td>\n",
       "      <td>76.0</td>\n",
       "      <td>Animation, Adventure, Family, Fantasy, Comedy</td>\n",
       "      <td>Chris Pratt, Mario (voice), Anya Taylor-Joy, P...</td>\n",
       "      <td>Released</td>\n",
       "      <td>English</td>\n",
       "      <td>100000000.0</td>\n",
       "      <td>7.244590e+08</td>\n",
       "      <td>AU</td>\n",
       "    </tr>\n",
       "    <tr>\n",
       "      <th>3</th>\n",
       "      <td>Mummies</td>\n",
       "      <td>01/05/2023</td>\n",
       "      <td>70.0</td>\n",
       "      <td>Animation, Comedy, Family, Adventure, Fantasy</td>\n",
       "      <td>Óscar Barberán, Thut (voice), Ana Esther Albor...</td>\n",
       "      <td>Released</td>\n",
       "      <td>Spanish, Castilian</td>\n",
       "      <td>12300000.0</td>\n",
       "      <td>3.420000e+07</td>\n",
       "      <td>AU</td>\n",
       "    </tr>\n",
       "    <tr>\n",
       "      <th>4</th>\n",
       "      <td>Supercell</td>\n",
       "      <td>03/17/2023</td>\n",
       "      <td>61.0</td>\n",
       "      <td>Action</td>\n",
       "      <td>Skeet Ulrich, Roy Cameron, Anne Heche, Dr Quin...</td>\n",
       "      <td>Released</td>\n",
       "      <td>English</td>\n",
       "      <td>77000000.0</td>\n",
       "      <td>3.409420e+08</td>\n",
       "      <td>US</td>\n",
       "    </tr>\n",
       "  </tbody>\n",
       "</table>\n",
       "</div>"
      ],
      "text/plain": [
       "                         names       date_x  score  \\\n",
       "0                    Creed III  03/02/2023    73.0   \n",
       "1     Avatar: The Way of Water  12/15/2022    78.0   \n",
       "2  The Super Mario Bros. Movie  04/05/2023    76.0   \n",
       "3                      Mummies  01/05/2023    70.0   \n",
       "4                    Supercell  03/17/2023    61.0   \n",
       "\n",
       "                                           genre  \\\n",
       "0                                  Drama, Action   \n",
       "1             Science Fiction, Adventure, Action   \n",
       "2  Animation, Adventure, Family, Fantasy, Comedy   \n",
       "3  Animation, Comedy, Family, Adventure, Fantasy   \n",
       "4                                         Action   \n",
       "\n",
       "                                                crew     status  \\\n",
       "0  Michael B. Jordan, Adonis Creed, Tessa Thompso...   Released   \n",
       "1  Sam Worthington, Jake Sully, Zoe Saldaña, Neyt...   Released   \n",
       "2  Chris Pratt, Mario (voice), Anya Taylor-Joy, P...   Released   \n",
       "3  Óscar Barberán, Thut (voice), Ana Esther Albor...   Released   \n",
       "4  Skeet Ulrich, Roy Cameron, Anne Heche, Dr Quin...   Released   \n",
       "\n",
       "             orig_lang     budget_x       revenue country  \n",
       "0              English   75000000.0  2.716167e+08      AU  \n",
       "1              English  460000000.0  2.316795e+09      AU  \n",
       "2              English  100000000.0  7.244590e+08      AU  \n",
       "3   Spanish, Castilian   12300000.0  3.420000e+07      AU  \n",
       "4              English   77000000.0  3.409420e+08      US  "
      ]
     },
     "execution_count": 6,
     "metadata": {},
     "output_type": "execute_result"
    }
   ],
   "source": [
    "df_movies = df_movies.drop(['overview', 'orig_title'], axis=1)\n",
    "columns = df_movies.columns.tolist()\n",
    "columns.remove('genre')\n",
    "df_movies.head()"
   ]
  },
  {
   "cell_type": "markdown",
   "id": "utuZdNl7SveN",
   "metadata": {
    "id": "utuZdNl7SveN"
   },
   "source": [
    "Код с разделением жанров:\n"
   ]
  },
  {
   "cell_type": "code",
   "execution_count": 7,
   "id": "doIFYbVLS7Kz",
   "metadata": {
    "colab": {
     "base_uri": "https://localhost:8080/",
     "height": 699
    },
    "id": "doIFYbVLS7Kz",
    "outputId": "ff9a0cf3-2b72-49b8-a726-3bbd132a0e04"
   },
   "outputs": [
    {
     "data": {
      "text/html": [
       "<div>\n",
       "<style scoped>\n",
       "    .dataframe tbody tr th:only-of-type {\n",
       "        vertical-align: middle;\n",
       "    }\n",
       "\n",
       "    .dataframe tbody tr th {\n",
       "        vertical-align: top;\n",
       "    }\n",
       "\n",
       "    .dataframe thead th {\n",
       "        text-align: right;\n",
       "    }\n",
       "</style>\n",
       "<table border=\"1\" class=\"dataframe\">\n",
       "  <thead>\n",
       "    <tr style=\"text-align: right;\">\n",
       "      <th></th>\n",
       "      <th>names</th>\n",
       "      <th>date_x</th>\n",
       "      <th>score</th>\n",
       "      <th>crew</th>\n",
       "      <th>status</th>\n",
       "      <th>orig_lang</th>\n",
       "      <th>budget_x</th>\n",
       "      <th>revenue</th>\n",
       "      <th>country</th>\n",
       "      <th>Thriller</th>\n",
       "      <th>...</th>\n",
       "      <th>Western</th>\n",
       "      <th>Family</th>\n",
       "      <th>Music</th>\n",
       "      <th>Drama</th>\n",
       "      <th>Comedy</th>\n",
       "      <th>Horror</th>\n",
       "      <th>Romance</th>\n",
       "      <th>History</th>\n",
       "      <th>Animation</th>\n",
       "      <th>Mystery</th>\n",
       "    </tr>\n",
       "  </thead>\n",
       "  <tbody>\n",
       "    <tr>\n",
       "      <th>0</th>\n",
       "      <td>Creed III</td>\n",
       "      <td>03/02/2023</td>\n",
       "      <td>73.0</td>\n",
       "      <td>Michael B. Jordan, Adonis Creed, Tessa Thompso...</td>\n",
       "      <td>Released</td>\n",
       "      <td>English</td>\n",
       "      <td>75000000.0</td>\n",
       "      <td>2.716167e+08</td>\n",
       "      <td>AU</td>\n",
       "      <td>0</td>\n",
       "      <td>...</td>\n",
       "      <td>0</td>\n",
       "      <td>0</td>\n",
       "      <td>0</td>\n",
       "      <td>1</td>\n",
       "      <td>0</td>\n",
       "      <td>0</td>\n",
       "      <td>0</td>\n",
       "      <td>0</td>\n",
       "      <td>0</td>\n",
       "      <td>0</td>\n",
       "    </tr>\n",
       "    <tr>\n",
       "      <th>1</th>\n",
       "      <td>Avatar: The Way of Water</td>\n",
       "      <td>12/15/2022</td>\n",
       "      <td>78.0</td>\n",
       "      <td>Sam Worthington, Jake Sully, Zoe Saldaña, Neyt...</td>\n",
       "      <td>Released</td>\n",
       "      <td>English</td>\n",
       "      <td>460000000.0</td>\n",
       "      <td>2.316795e+09</td>\n",
       "      <td>AU</td>\n",
       "      <td>0</td>\n",
       "      <td>...</td>\n",
       "      <td>0</td>\n",
       "      <td>0</td>\n",
       "      <td>0</td>\n",
       "      <td>0</td>\n",
       "      <td>0</td>\n",
       "      <td>0</td>\n",
       "      <td>0</td>\n",
       "      <td>0</td>\n",
       "      <td>0</td>\n",
       "      <td>0</td>\n",
       "    </tr>\n",
       "    <tr>\n",
       "      <th>2</th>\n",
       "      <td>The Super Mario Bros. Movie</td>\n",
       "      <td>04/05/2023</td>\n",
       "      <td>76.0</td>\n",
       "      <td>Chris Pratt, Mario (voice), Anya Taylor-Joy, P...</td>\n",
       "      <td>Released</td>\n",
       "      <td>English</td>\n",
       "      <td>100000000.0</td>\n",
       "      <td>7.244590e+08</td>\n",
       "      <td>AU</td>\n",
       "      <td>0</td>\n",
       "      <td>...</td>\n",
       "      <td>0</td>\n",
       "      <td>1</td>\n",
       "      <td>0</td>\n",
       "      <td>0</td>\n",
       "      <td>1</td>\n",
       "      <td>0</td>\n",
       "      <td>0</td>\n",
       "      <td>0</td>\n",
       "      <td>1</td>\n",
       "      <td>0</td>\n",
       "    </tr>\n",
       "    <tr>\n",
       "      <th>3</th>\n",
       "      <td>Mummies</td>\n",
       "      <td>01/05/2023</td>\n",
       "      <td>70.0</td>\n",
       "      <td>Óscar Barberán, Thut (voice), Ana Esther Albor...</td>\n",
       "      <td>Released</td>\n",
       "      <td>Spanish, Castilian</td>\n",
       "      <td>12300000.0</td>\n",
       "      <td>3.420000e+07</td>\n",
       "      <td>AU</td>\n",
       "      <td>0</td>\n",
       "      <td>...</td>\n",
       "      <td>0</td>\n",
       "      <td>1</td>\n",
       "      <td>0</td>\n",
       "      <td>0</td>\n",
       "      <td>1</td>\n",
       "      <td>0</td>\n",
       "      <td>0</td>\n",
       "      <td>0</td>\n",
       "      <td>1</td>\n",
       "      <td>0</td>\n",
       "    </tr>\n",
       "    <tr>\n",
       "      <th>4</th>\n",
       "      <td>Supercell</td>\n",
       "      <td>03/17/2023</td>\n",
       "      <td>61.0</td>\n",
       "      <td>Skeet Ulrich, Roy Cameron, Anne Heche, Dr Quin...</td>\n",
       "      <td>Released</td>\n",
       "      <td>English</td>\n",
       "      <td>77000000.0</td>\n",
       "      <td>3.409420e+08</td>\n",
       "      <td>US</td>\n",
       "      <td>0</td>\n",
       "      <td>...</td>\n",
       "      <td>0</td>\n",
       "      <td>0</td>\n",
       "      <td>0</td>\n",
       "      <td>0</td>\n",
       "      <td>0</td>\n",
       "      <td>0</td>\n",
       "      <td>0</td>\n",
       "      <td>0</td>\n",
       "      <td>0</td>\n",
       "      <td>0</td>\n",
       "    </tr>\n",
       "  </tbody>\n",
       "</table>\n",
       "<p>5 rows × 28 columns</p>\n",
       "</div>"
      ],
      "text/plain": [
       "                         names       date_x  score  \\\n",
       "0                    Creed III  03/02/2023    73.0   \n",
       "1     Avatar: The Way of Water  12/15/2022    78.0   \n",
       "2  The Super Mario Bros. Movie  04/05/2023    76.0   \n",
       "3                      Mummies  01/05/2023    70.0   \n",
       "4                    Supercell  03/17/2023    61.0   \n",
       "\n",
       "                                                crew     status  \\\n",
       "0  Michael B. Jordan, Adonis Creed, Tessa Thompso...   Released   \n",
       "1  Sam Worthington, Jake Sully, Zoe Saldaña, Neyt...   Released   \n",
       "2  Chris Pratt, Mario (voice), Anya Taylor-Joy, P...   Released   \n",
       "3  Óscar Barberán, Thut (voice), Ana Esther Albor...   Released   \n",
       "4  Skeet Ulrich, Roy Cameron, Anne Heche, Dr Quin...   Released   \n",
       "\n",
       "             orig_lang     budget_x       revenue country  Thriller  ...  \\\n",
       "0              English   75000000.0  2.716167e+08      AU         0  ...   \n",
       "1              English  460000000.0  2.316795e+09      AU         0  ...   \n",
       "2              English  100000000.0  7.244590e+08      AU         0  ...   \n",
       "3   Spanish, Castilian   12300000.0  3.420000e+07      AU         0  ...   \n",
       "4              English   77000000.0  3.409420e+08      US         0  ...   \n",
       "\n",
       "   Western  Family  Music  Drama  Comedy  Horror  Romance  History  Animation  \\\n",
       "0        0       0      0      1       0       0        0        0          0   \n",
       "1        0       0      0      0       0       0        0        0          0   \n",
       "2        0       1      0      0       1       0        0        0          1   \n",
       "3        0       1      0      0       1       0        0        0          1   \n",
       "4        0       0      0      0       0       0        0        0          0   \n",
       "\n",
       "   Mystery  \n",
       "0        0  \n",
       "1        0  \n",
       "2        0  \n",
       "3        0  \n",
       "4        0  \n",
       "\n",
       "[5 rows x 28 columns]"
      ]
     },
     "execution_count": 7,
     "metadata": {},
     "output_type": "execute_result"
    }
   ],
   "source": [
    "all_genres = set()\n",
    "for genres in df_movies['genre']:\n",
    "    if isinstance(genres, str):\n",
    "        for genre in genres.split(','):\n",
    "            all_genres.add(genre.strip())\n",
    "\n",
    "for genre in all_genres:\n",
    "    df_movies[genre] = df_movies['genre'].fillna('').apply(lambda x: 1 if genre in x else 0)\n",
    "\n",
    "genres_dict = {}\n",
    "for i, genre in enumerate(all_genres):\n",
    "    genres_dict[genre] = i+1\n",
    "\n",
    "df_movies = df_movies.drop('genre', axis=1)\n",
    "df_movies.head()"
   ]
  },
  {
   "cell_type": "code",
   "execution_count": 8,
   "id": "crr5N4gvd40U",
   "metadata": {
    "colab": {
     "base_uri": "https://localhost:8080/"
    },
    "id": "crr5N4gvd40U",
    "outputId": "b447239f-6e9e-4b06-e516-32f021c83f46"
   },
   "outputs": [
    {
     "data": {
      "text/plain": [
       "{'Thriller': 1,\n",
       " 'TV Movie': 2,\n",
       " 'Fantasy': 3,\n",
       " 'Adventure': 4,\n",
       " 'Documentary': 5,\n",
       " 'Crime': 6,\n",
       " 'Science Fiction': 7,\n",
       " 'Action': 8,\n",
       " 'War': 9,\n",
       " 'Western': 10,\n",
       " 'Family': 11,\n",
       " 'Music': 12,\n",
       " 'Drama': 13,\n",
       " 'Comedy': 14,\n",
       " 'Horror': 15,\n",
       " 'Romance': 16,\n",
       " 'History': 17,\n",
       " 'Animation': 18,\n",
       " 'Mystery': 19}"
      ]
     },
     "execution_count": 8,
     "metadata": {},
     "output_type": "execute_result"
    }
   ],
   "source": [
    "# категории и их id\n",
    "genres_dict"
   ]
  },
  {
   "cell_type": "markdown",
   "id": "8dPEnwZ1hy8K",
   "metadata": {
    "id": "8dPEnwZ1hy8K"
   },
   "source": [
    " Для нашего анализа будем использовать только год, поэтому извлечем год из столбцы date_x\n"
   ]
  },
  {
   "cell_type": "code",
   "execution_count": 9,
   "id": "zOFk84yah9x-",
   "metadata": {
    "colab": {
     "base_uri": "https://localhost:8080/"
    },
    "id": "zOFk84yah9x-",
    "outputId": "a99dd97b-356c-4131-e201-99ccafce3eb0"
   },
   "outputs": [
    {
     "data": {
      "text/plain": [
       "0        2023\n",
       "1        2022\n",
       "2        2023\n",
       "3        2023\n",
       "4        2023\n",
       "         ... \n",
       "10173    2016\n",
       "10174    1990\n",
       "10175    1990\n",
       "10176    1995\n",
       "10177    2020\n",
       "Name: date_x, Length: 10178, dtype: object"
      ]
     },
     "execution_count": 9,
     "metadata": {},
     "output_type": "execute_result"
    }
   ],
   "source": [
    "df_movies['date_x'] = df_movies['date_x'].str.extract(r'(\\d{4})')\n",
    "df_movies['date_x']"
   ]
  },
  {
   "cell_type": "markdown",
   "id": "cc436440",
   "metadata": {
    "id": "cc436440"
   },
   "source": [
    "## Часть 2: Визуализация"
   ]
  },
  {
   "cell_type": "code",
   "execution_count": 10,
   "id": "41e0ccfb",
   "metadata": {
    "colab": {
     "base_uri": "https://localhost:8080/",
     "height": 504
    },
    "id": "41e0ccfb",
    "outputId": "6e89c5c6-acc3-4040-938b-b40b7e7937f8"
   },
   "outputs": [
    {
     "data": {
      "image/png": "[encoded data removed]",
      "text/plain": [
       "<Figure size 432x288 with 1 Axes>"
      ]
     },
     "metadata": {
      "needs_background": "light"
     },
     "output_type": "display_data"
    }
   ],
   "source": [
    "year_counts = df_movies['date_x'].value_counts().sort_index()\n",
    "plt.bar(year_counts.index, year_counts.values)\n",
    "plt.title('Количество фильмов по годам')\n",
    "plt.xlabel('Год')\n",
    "plt.ylabel('Количество')\n",
    "plt.xticks(year_counts.index[::5], rotation=90)\n",
    "plt.show()"
   ]
  },
  {
   "cell_type": "markdown",
   "id": "FosNCse_oB3A",
   "metadata": {
    "id": "FosNCse_oB3A"
   },
   "source": [
    "Вывод: из графика видно, что с каждым годом количество выпускаемых фильмов увеличивается. Это говорит о росте кинопроизводства в мире.\n",
    "\n",
    "\n",
    "\n",
    "\n"
   ]
  },
  {
   "cell_type": "code",
   "execution_count": 11,
   "id": "u8_2Y-5foGwL",
   "metadata": {
    "colab": {
     "base_uri": "https://localhost:8080/",
     "height": 498
    },
    "id": "u8_2Y-5foGwL",
    "outputId": "7b430296-2a11-491e-db91-a59c79b45eca"
   },
   "outputs": [
    {
     "data": {
      "text/plain": [
       "Text(0.5, 0, 'Оценка')"
      ]
     },
     "execution_count": 11,
     "metadata": {},
     "output_type": "execute_result"
    },
    {
     "data": {
      "image/png": "[encoded data removed]",
      "text/plain": [
       "<Figure size 432x288 with 1 Axes>"
      ]
     },
     "metadata": {
      "needs_background": "light"
     },
     "output_type": "display_data"
    }
   ],
   "source": [
    "plt.hist(df_movies['score'], bins=20)\n",
    "plt.title('Распределение оценок фильмов')\n",
    "plt.xlabel('Оценка')"
   ]
  },
  {
   "cell_type": "markdown",
   "id": "uwMuB02soxZt",
   "metadata": {
    "id": "uwMuB02soxZt"
   },
   "source": [
    "Исходя из описания графика, можно предположить, что распределение оценок фильмов похоже на нормальное распределение с пиком около значения 70 и симметричным \"хвостом\" влево и вправо. Построим матрицу корреляции между этими столбцами и выведем ее на экран:\n",
    "\n"
   ]
  },
  {
   "cell_type": "code",
   "execution_count": 12,
   "id": "WpwHaPfxp_d2",
   "metadata": {
    "colab": {
     "base_uri": "https://localhost:8080/",
     "height": 143
    },
    "id": "WpwHaPfxp_d2",
    "outputId": "d2f913a4-ec71-4e8b-fda0-68e5361218b9"
   },
   "outputs": [
    {
     "data": {
      "text/html": [
       "<div>\n",
       "<style scoped>\n",
       "    .dataframe tbody tr th:only-of-type {\n",
       "        vertical-align: middle;\n",
       "    }\n",
       "\n",
       "    .dataframe tbody tr th {\n",
       "        vertical-align: top;\n",
       "    }\n",
       "\n",
       "    .dataframe thead th {\n",
       "        text-align: right;\n",
       "    }\n",
       "</style>\n",
       "<table border=\"1\" class=\"dataframe\">\n",
       "  <thead>\n",
       "    <tr style=\"text-align: right;\">\n",
       "      <th></th>\n",
       "      <th>score</th>\n",
       "      <th>budget_x</th>\n",
       "      <th>revenue</th>\n",
       "    </tr>\n",
       "  </thead>\n",
       "  <tbody>\n",
       "    <tr>\n",
       "      <th>score</th>\n",
       "      <td>1.000000</td>\n",
       "      <td>-0.23547</td>\n",
       "      <td>0.096533</td>\n",
       "    </tr>\n",
       "    <tr>\n",
       "      <th>budget_x</th>\n",
       "      <td>-0.235470</td>\n",
       "      <td>1.00000</td>\n",
       "      <td>0.673830</td>\n",
       "    </tr>\n",
       "    <tr>\n",
       "      <th>revenue</th>\n",
       "      <td>0.096533</td>\n",
       "      <td>0.67383</td>\n",
       "      <td>1.000000</td>\n",
       "    </tr>\n",
       "  </tbody>\n",
       "</table>\n",
       "</div>"
      ],
      "text/plain": [
       "             score  budget_x   revenue\n",
       "score     1.000000  -0.23547  0.096533\n",
       "budget_x -0.235470   1.00000  0.673830\n",
       "revenue   0.096533   0.67383  1.000000"
      ]
     },
     "execution_count": 12,
     "metadata": {},
     "output_type": "execute_result"
    }
   ],
   "source": [
    "corr_matrix = df_movies[columns].corr()\n",
    "corr_matrix"
   ]
  },
  {
   "cell_type": "code",
   "execution_count": 13,
   "id": "SrkyYRfk5IjZ",
   "metadata": {
    "colab": {
     "base_uri": "https://localhost:8080/",
     "height": 459
    },
    "id": "SrkyYRfk5IjZ",
    "outputId": "d446cdb0-0424-49d2-bb09-40612185715c"
   },
   "outputs": [
    {
     "data": {
      "text/plain": [
       "<AxesSubplot:>"
      ]
     },
     "execution_count": 13,
     "metadata": {},
     "output_type": "execute_result"
    },
    {
     "data": {
      "image/png": "[encoded data removed]",
      "text/plain": [
       "<Figure size 432x288 with 2 Axes>"
      ]
     },
     "metadata": {
      "needs_background": "light"
     },
     "output_type": "display_data"
    }
   ],
   "source": [
    "sns.heatmap(corr_matrix, annot = True)"
   ]
  },
  {
   "cell_type": "markdown",
   "id": "pBTwBnTGuB9W",
   "metadata": {
    "id": "pBTwBnTGuB9W"
   },
   "source": [
    "Из таблицы корреляции видно, что между рейтингом фильма и бюджетом производства есть отрицательная корреляция, то есть чем выше рейтинг фильма, тем меньше обычно бюджет его производства. Однако между бюджетом производства и сборами фильма есть положительная корреляция, то есть чем больше бюджет у фильма, тем выше его сборы. Теперь построим диаграммы рассеяния для этих столбцов:"
   ]
  },
  {
   "cell_type": "code",
   "execution_count": 14,
   "id": "WdiCyNgluChS",
   "metadata": {
    "colab": {
     "base_uri": "https://localhost:8080/",
     "height": 800
    },
    "id": "WdiCyNgluChS",
    "outputId": "41e68dce-b7b7-4d56-e2ee-2c23e65d32be"
   },
   "outputs": [
    {
     "data": {
      "image/png": "[encoded data removed]",
      "text/plain": [
       "<Figure size 720x576 with 3 Axes>"
      ]
     },
     "metadata": {
      "needs_background": "light"
     },
     "output_type": "display_data"
    }
   ],
   "source": [
    "fig, axs = plt.subplots(nrows=2, ncols=2, figsize=(10, 8))\n",
    "\n",
    "axs[0, 0].scatter(df_movies['score'], df_movies['revenue'], s=5)\n",
    "axs[0, 0].set_title('Оценка vs Сборы')\n",
    "axs[0, 0].set_xlabel('Оценка')\n",
    "axs[0, 0].set_ylabel('Сборы, млн $')\n",
    "\n",
    "axs[0, 1].scatter(df_movies['score'], df_movies['budget_x'], s=5)\n",
    "axs[0, 1].set_title('Оценка vs Бюджет')\n",
    "axs[0, 1].set_xlabel('Оценка')\n",
    "axs[0, 1].set_ylabel('Бюджет, млн $')\n",
    "\n",
    "axs[1, 0].scatter(df_movies['budget_x'], df_movies['revenue'], s=5)\n",
    "axs[1, 0].set_title('Бюджет vs Сборы')\n",
    "axs[1, 0].set_xlabel('Бюджет, млн $')\n",
    "axs[1, 0].set_ylabel('Сборы, млн $')\n",
    "\n",
    "fig.delaxes(axs[1, 1])\n",
    "\n",
    "plt.tight_layout()\n",
    "plt.show()\n"
   ]
  },
  {
   "cell_type": "markdown",
   "id": "UHLCAe9iy06h",
   "metadata": {
    "id": "UHLCAe9iy06h"
   },
   "source": [
    "Проверим, какой жанр принес наибольшие доходы в разных странах и построим соответствующую визуализацию. Для этого нам нужно сгруппировать данные по странам и по каждой стране вычислить сумму доходов для каждого жанра. Затем мы можем выбрать жанр с наибольшей суммой доходов для каждой страны. Для красивого вывода построим график только для фильмов, у которых доход больше миллиарда"
   ]
  },
  {
   "cell_type": "code",
   "execution_count": 15,
   "id": "iz8fAfrouXOS",
   "metadata": {
    "colab": {
     "base_uri": "https://localhost:8080/",
     "height": 319
    },
    "id": "iz8fAfrouXOS",
    "outputId": "195cc950-f0e0-4ccc-f283-17e6fb705aac"
   },
   "outputs": [
    {
     "data": {
      "text/html": [
       "<div>\n",
       "<style scoped>\n",
       "    .dataframe tbody tr th:only-of-type {\n",
       "        vertical-align: middle;\n",
       "    }\n",
       "\n",
       "    .dataframe tbody tr th {\n",
       "        vertical-align: top;\n",
       "    }\n",
       "\n",
       "    .dataframe thead th {\n",
       "        text-align: right;\n",
       "    }\n",
       "</style>\n",
       "<table border=\"1\" class=\"dataframe\">\n",
       "  <thead>\n",
       "    <tr style=\"text-align: right;\">\n",
       "      <th></th>\n",
       "      <th>Thriller</th>\n",
       "      <th>TV Movie</th>\n",
       "      <th>Fantasy</th>\n",
       "      <th>Adventure</th>\n",
       "      <th>Documentary</th>\n",
       "      <th>Crime</th>\n",
       "      <th>Science Fiction</th>\n",
       "      <th>Action</th>\n",
       "      <th>War</th>\n",
       "      <th>Western</th>\n",
       "      <th>Family</th>\n",
       "      <th>Music</th>\n",
       "      <th>Drama</th>\n",
       "      <th>Comedy</th>\n",
       "      <th>Horror</th>\n",
       "      <th>Romance</th>\n",
       "      <th>History</th>\n",
       "      <th>Animation</th>\n",
       "      <th>Mystery</th>\n",
       "      <th>revenue</th>\n",
       "    </tr>\n",
       "    <tr>\n",
       "      <th>country</th>\n",
       "      <th></th>\n",
       "      <th></th>\n",
       "      <th></th>\n",
       "      <th></th>\n",
       "      <th></th>\n",
       "      <th></th>\n",
       "      <th></th>\n",
       "      <th></th>\n",
       "      <th></th>\n",
       "      <th></th>\n",
       "      <th></th>\n",
       "      <th></th>\n",
       "      <th></th>\n",
       "      <th></th>\n",
       "      <th></th>\n",
       "      <th></th>\n",
       "      <th></th>\n",
       "      <th></th>\n",
       "      <th></th>\n",
       "      <th></th>\n",
       "    </tr>\n",
       "  </thead>\n",
       "  <tbody>\n",
       "    <tr>\n",
       "      <th>AR</th>\n",
       "      <td>0</td>\n",
       "      <td>0</td>\n",
       "      <td>0</td>\n",
       "      <td>0</td>\n",
       "      <td>0</td>\n",
       "      <td>0</td>\n",
       "      <td>0</td>\n",
       "      <td>0</td>\n",
       "      <td>0</td>\n",
       "      <td>0</td>\n",
       "      <td>0</td>\n",
       "      <td>0</td>\n",
       "      <td>0</td>\n",
       "      <td>1</td>\n",
       "      <td>0</td>\n",
       "      <td>0</td>\n",
       "      <td>0</td>\n",
       "      <td>0</td>\n",
       "      <td>0</td>\n",
       "      <td>1.569324e+09</td>\n",
       "    </tr>\n",
       "    <tr>\n",
       "      <th>AU</th>\n",
       "      <td>12</td>\n",
       "      <td>3</td>\n",
       "      <td>24</td>\n",
       "      <td>44</td>\n",
       "      <td>1</td>\n",
       "      <td>7</td>\n",
       "      <td>25</td>\n",
       "      <td>39</td>\n",
       "      <td>1</td>\n",
       "      <td>1</td>\n",
       "      <td>23</td>\n",
       "      <td>2</td>\n",
       "      <td>14</td>\n",
       "      <td>12</td>\n",
       "      <td>0</td>\n",
       "      <td>6</td>\n",
       "      <td>0</td>\n",
       "      <td>21</td>\n",
       "      <td>2</td>\n",
       "      <td>8.950908e+10</td>\n",
       "    </tr>\n",
       "    <tr>\n",
       "      <th>ES</th>\n",
       "      <td>0</td>\n",
       "      <td>0</td>\n",
       "      <td>0</td>\n",
       "      <td>0</td>\n",
       "      <td>1</td>\n",
       "      <td>0</td>\n",
       "      <td>0</td>\n",
       "      <td>0</td>\n",
       "      <td>0</td>\n",
       "      <td>0</td>\n",
       "      <td>0</td>\n",
       "      <td>0</td>\n",
       "      <td>0</td>\n",
       "      <td>0</td>\n",
       "      <td>0</td>\n",
       "      <td>0</td>\n",
       "      <td>0</td>\n",
       "      <td>0</td>\n",
       "      <td>0</td>\n",
       "      <td>1.075683e+09</td>\n",
       "    </tr>\n",
       "    <tr>\n",
       "      <th>FR</th>\n",
       "      <td>0</td>\n",
       "      <td>2</td>\n",
       "      <td>1</td>\n",
       "      <td>0</td>\n",
       "      <td>1</td>\n",
       "      <td>1</td>\n",
       "      <td>1</td>\n",
       "      <td>0</td>\n",
       "      <td>0</td>\n",
       "      <td>0</td>\n",
       "      <td>0</td>\n",
       "      <td>0</td>\n",
       "      <td>0</td>\n",
       "      <td>0</td>\n",
       "      <td>0</td>\n",
       "      <td>1</td>\n",
       "      <td>0</td>\n",
       "      <td>1</td>\n",
       "      <td>1</td>\n",
       "      <td>4.649804e+09</td>\n",
       "    </tr>\n",
       "    <tr>\n",
       "      <th>GB</th>\n",
       "      <td>0</td>\n",
       "      <td>0</td>\n",
       "      <td>0</td>\n",
       "      <td>0</td>\n",
       "      <td>2</td>\n",
       "      <td>0</td>\n",
       "      <td>0</td>\n",
       "      <td>0</td>\n",
       "      <td>0</td>\n",
       "      <td>0</td>\n",
       "      <td>0</td>\n",
       "      <td>1</td>\n",
       "      <td>0</td>\n",
       "      <td>0</td>\n",
       "      <td>0</td>\n",
       "      <td>0</td>\n",
       "      <td>0</td>\n",
       "      <td>0</td>\n",
       "      <td>0</td>\n",
       "      <td>3.157477e+09</td>\n",
       "    </tr>\n",
       "  </tbody>\n",
       "</table>\n",
       "</div>"
      ],
      "text/plain": [
       "         Thriller  TV Movie  Fantasy  Adventure  Documentary  Crime  \\\n",
       "country                                                               \n",
       "AR              0         0        0          0            0      0   \n",
       "AU             12         3       24         44            1      7   \n",
       "ES              0         0        0          0            1      0   \n",
       "FR              0         2        1          0            1      1   \n",
       "GB              0         0        0          0            2      0   \n",
       "\n",
       "         Science Fiction  Action  War  Western  Family  Music  Drama  Comedy  \\\n",
       "country                                                                        \n",
       "AR                     0       0    0        0       0      0      0       1   \n",
       "AU                    25      39    1        1      23      2     14      12   \n",
       "ES                     0       0    0        0       0      0      0       0   \n",
       "FR                     1       0    0        0       0      0      0       0   \n",
       "GB                     0       0    0        0       0      1      0       0   \n",
       "\n",
       "         Horror  Romance  History  Animation  Mystery       revenue  \n",
       "country                                                              \n",
       "AR            0        0        0          0        0  1.569324e+09  \n",
       "AU            0        6        0         21        2  8.950908e+10  \n",
       "ES            0        0        0          0        0  1.075683e+09  \n",
       "FR            0        1        0          1        1  4.649804e+09  \n",
       "GB            0        0        0          0        0  3.157477e+09  "
      ]
     },
     "execution_count": 15,
     "metadata": {},
     "output_type": "execute_result"
    }
   ],
   "source": [
    "df_high_revenue = df_movies.query('revenue > 1000000000')\n",
    "grouped = df_high_revenue.groupby('country')[list(genres_dict.keys()) + ['revenue']].sum()\n",
    "grouped.head()"
   ]
  },
  {
   "cell_type": "code",
   "execution_count": 16,
   "id": "GgN53vcYzB4H",
   "metadata": {
    "colab": {
     "base_uri": "https://localhost:8080/",
     "height": 582
    },
    "id": "GgN53vcYzB4H",
    "outputId": "cdd9d5bd-0057-416f-9de1-1b4eb7848225"
   },
   "outputs": [
    {
     "data": {
      "image/png": "[encoded data removed]",
      "text/plain": [
       "<Figure size 720x432 with 1 Axes>"
      ]
     },
     "metadata": {
      "needs_background": "light"
     },
     "output_type": "display_data"
    }
   ],
   "source": [
    "top_genres = []\n",
    "for country in grouped.index:\n",
    "    max_revenue = 0\n",
    "    top_genre = ''\n",
    "    for genre in genres_dict.keys():\n",
    "        if grouped.loc[country, genre] == 1 and grouped.loc[country, 'revenue'] > max_revenue:\n",
    "            max_revenue = grouped.loc[country, 'revenue']\n",
    "            top_genre = genre\n",
    "    top_genres.append(top_genre)\n",
    "\n",
    "fig, ax = plt.subplots(figsize=(10, 6))\n",
    "ax.bar(grouped.index, grouped['revenue'])\n",
    "ax.set_title('Суммарный доход по странам')\n",
    "ax.set_xlabel('Страны')\n",
    "ax.set_ylabel('Доходы, млн $')\n",
    "ax.tick_params(axis='x', labelrotation=90)\n",
    "for i, genre in enumerate(top_genres):\n",
    "    if genre != '':\n",
    "        ax.text(i, grouped.loc[grouped.index[i], 'revenue'], genre, ha='center', va='bottom')\n",
    "plt.show()"
   ]
  },
  {
   "cell_type": "markdown",
   "id": "baf26d74",
   "metadata": {},
   "source": [
    "## Часть 3: Создание новых признаков"
   ]
  },
  {
   "cell_type": "markdown",
   "id": "1bc9b8b5",
   "metadata": {},
   "source": [
    "Создадим новый столбец, в котором отметим, является ли фильм новой частью франшизы или нет?"
   ]
  },
  {
   "cell_type": "code",
   "execution_count": 17,
   "id": "5d10b89c",
   "metadata": {},
   "outputs": [],
   "source": [
    "def is_new_part(movie_title):\n",
    "    keywords = ['part', 'sequel', 'prequel','chapter', 'act', 'Part', 'Sequel', 'Prequel', 'Chapter', 'Act', \n",
    "                '2 ', '3 ', '4 ', '5 ', '6 ', '7 ', '8 ', '9 ', 'II ', 'III ', 'IV ', 'V ', 'VI ', 'VII ', \n",
    "               'VIII', 'IX ', ':']\n",
    "\n",
    "    for keyword in keywords:\n",
    "        if keyword in movie_title:\n",
    "            return 1\n",
    "    \n",
    "    return 0"
   ]
  },
  {
   "cell_type": "code",
   "execution_count": 18,
   "id": "d6f6e4d0",
   "metadata": {},
   "outputs": [],
   "source": [
    "df_movies['new part'] = df_movies['names'].apply(is_new_part)"
   ]
  },
  {
   "cell_type": "markdown",
   "id": "6952c0fb",
   "metadata": {},
   "source": [
    "Конечно, что-то мы возможно упустили, но в целом это должно возыметь эффект.\n",
    "\n",
    "Перейдем от год выпуска к возрасту фильма."
   ]
  },
  {
   "cell_type": "code",
   "execution_count": 19,
   "id": "d1512f63",
   "metadata": {},
   "outputs": [],
   "source": [
    "df_movies['date_x'] = df_movies['date_x'].astype(int)\n",
    "df_movies['age'] = 2023 - df_movies['date_x']"
   ]
  },
  {
   "cell_type": "markdown",
   "id": "3767a66e",
   "metadata": {},
   "source": [
    "Создадим столбец, где будем помечать, сколько популярных актеров снималось в фильме. Для этого сначала найдем топ 250 самых популярных актеров."
   ]
  },
  {
   "cell_type": "code",
   "execution_count": 20,
   "id": "23c3ad55",
   "metadata": {},
   "outputs": [],
   "source": [
    "actors_list = df_movies['crew'].str.split(',').explode().str.strip().tolist()\n",
    "filtered_actors_list = list(filter(lambda x: isinstance(x, str) and len(x.split()) >= 2, actors_list))\n",
    "actor_counts = pd.Series(filtered_actors_list).value_counts()\n",
    "top_100_actors = actor_counts.head(250).index.tolist()"
   ]
  },
  {
   "cell_type": "code",
   "execution_count": 21,
   "id": "ec757d7a",
   "metadata": {},
   "outputs": [],
   "source": [
    "def count_actors_in_top_100(row):\n",
    "    if isinstance(row['crew'], str):\n",
    "        actors = set(row['crew'].split(','))\n",
    "        return len(actors.intersection(set(top_100_actors)))\n",
    "    else:\n",
    "        return 0"
   ]
  },
  {
   "cell_type": "code",
   "execution_count": 22,
   "id": "f283a586",
   "metadata": {},
   "outputs": [],
   "source": [
    "df_movies['n_famous'] = df_movies.apply(count_actors_in_top_100, axis=1)"
   ]
  },
  {
   "cell_type": "markdown",
   "id": "e68a715c",
   "metadata": {},
   "source": [
    "Создадим новый признак: *авторское* кино или нет? Если страна фильма и язык фильма не совпадает значит кино авторское."
   ]
  },
  {
   "cell_type": "code",
   "execution_count": 23,
   "id": "0b45ed61",
   "metadata": {},
   "outputs": [],
   "source": [
    "country_lang = {'AU': ' English', 'US': ' English', 'MX': ' Spanish, Castilian', 'GB': ' English', 'CL': \n",
    "                    ' Spanish, Castilian', 'NO': ' Norwegian', 'ES': ' Spanish, Castilian', 'AR': ' Spanish, Castilian', \n",
    "                    'KR': ' Korean', 'HK': ' Chinese', 'UA': ' Russian', 'IT': ' Italian', 'RU': ' Russian', \n",
    "                    'CO': ' Spanish, Castilian', 'DE': ' German', 'JP': ' Japanese', 'FR': ' French', 'FI': ' Finnish', \n",
    "                    'IS': ' Icelandic', 'ID': ' Indonesian', 'BR': ' Portuguese', 'BE': ' Dutch, Flemish',  'DK': ' Danish', \n",
    "                    'TR': ' Turkish', 'TH': ' Thai', 'PL': ' Polish', 'GT': ' Spanish, Castilian', 'CN': ' Chinese', \n",
    "                    'CZ': ' Czech', 'PH': ' Tagalog', 'ZA': ' English', 'CA': ' English', 'NL': ' Dutch, Flemish', \n",
    "                    'TW': ' Chinese', 'PR': ' Spanish, Castilian', 'IN': ' Hindi', 'IE': ' Irish', 'SG': ' English', \n",
    "                    'PE': ' Spanish, Castilian',  'CH': ' German',  'SE': ' Swedish', 'IL': ' Hebrew', \n",
    "                    'DO': ' Spanish, Castilian', 'VN': ' Vietnamese', 'GR': ' Greek', 'SU': ' Russian', 'HU': ' Hungarian', \n",
    "                    'BO': ' Spanish, Castilian', 'SK': ' Slovak', 'UY': ' Spanish, Castilian', 'BY': ' Russian', \n",
    "                    'AT': ' German', 'PY': ' Spanish, Castilian', 'MY': ' Malay', 'MU': ' English', 'LV': ' Latvian', \n",
    "                    'XC': ' Czech', 'PT': ' Portuguese', 'KH': ' Central Khmer', 'IR': ' Persian'}"
   ]
  },
  {
   "cell_type": "code",
   "execution_count": 24,
   "id": "c0cc8e91",
   "metadata": {},
   "outputs": [],
   "source": [
    "df_movies['is_author_cinema'] = df_movies.apply(lambda row: 1 if row['orig_lang'] != country_lang.get(row['country']) \n",
    "                                                else 0, axis=1)"
   ]
  },
  {
   "cell_type": "markdown",
   "id": "ebc240f6",
   "metadata": {},
   "source": [
    "Уберем ненужные переменные."
   ]
  },
  {
   "cell_type": "code",
   "execution_count": 25,
   "id": "4a43c2a6",
   "metadata": {},
   "outputs": [],
   "source": [
    "df_movies = df_movies.drop(columns=['names', 'date_x', 'crew'])"
   ]
  },
  {
   "cell_type": "markdown",
   "id": "6552f4ac",
   "metadata": {},
   "source": [
    "Закодируем оставшиеся категориальные переменные."
   ]
  },
  {
   "cell_type": "code",
   "execution_count": 26,
   "id": "9e042489",
   "metadata": {},
   "outputs": [],
   "source": [
    "df_movies['status'] = df_movies['status'].replace(' Released', 1).replace([' Post Production', ' In Production'], 0)\n",
    "\n",
    "value_counts = df_movies['orig_lang'].value_counts()\n",
    "rare_languages = value_counts[value_counts < 50].index.tolist()\n",
    "df_movies['orig_lang'] = df_movies['orig_lang'].apply(lambda x: ' Uncommon' if x in rare_languages else x)\n",
    "\n",
    "value_counts = df_movies['country'].value_counts()\n",
    "rare_country = value_counts[value_counts < 50].index.tolist()\n",
    "df_movies['country'] = df_movies['country'].apply(lambda x: 'Small' if x in rare_country else x)"
   ]
  },
  {
   "cell_type": "code",
   "execution_count": 27,
   "id": "112e7971",
   "metadata": {},
   "outputs": [],
   "source": [
    "df_movies = pd.get_dummies(df_movies, columns=['orig_lang', 'country'])"
   ]
  },
  {
   "cell_type": "code",
   "execution_count": 28,
   "id": "60243113",
   "metadata": {},
   "outputs": [
    {
     "data": {
      "text/html": [
       "<div>\n",
       "<style scoped>\n",
       "    .dataframe tbody tr th:only-of-type {\n",
       "        vertical-align: middle;\n",
       "    }\n",
       "\n",
       "    .dataframe tbody tr th {\n",
       "        vertical-align: top;\n",
       "    }\n",
       "\n",
       "    .dataframe thead th {\n",
       "        text-align: right;\n",
       "    }\n",
       "</style>\n",
       "<table border=\"1\" class=\"dataframe\">\n",
       "  <thead>\n",
       "    <tr style=\"text-align: right;\">\n",
       "      <th></th>\n",
       "      <th>score</th>\n",
       "      <th>status</th>\n",
       "      <th>budget_x</th>\n",
       "      <th>revenue</th>\n",
       "      <th>Thriller</th>\n",
       "      <th>TV Movie</th>\n",
       "      <th>Fantasy</th>\n",
       "      <th>Adventure</th>\n",
       "      <th>Documentary</th>\n",
       "      <th>Crime</th>\n",
       "      <th>...</th>\n",
       "      <th>country_FR</th>\n",
       "      <th>country_GB</th>\n",
       "      <th>country_HK</th>\n",
       "      <th>country_IT</th>\n",
       "      <th>country_JP</th>\n",
       "      <th>country_KR</th>\n",
       "      <th>country_MX</th>\n",
       "      <th>country_RU</th>\n",
       "      <th>country_Small</th>\n",
       "      <th>country_US</th>\n",
       "    </tr>\n",
       "  </thead>\n",
       "  <tbody>\n",
       "    <tr>\n",
       "      <th>0</th>\n",
       "      <td>73.0</td>\n",
       "      <td>1</td>\n",
       "      <td>75000000.0</td>\n",
       "      <td>2.716167e+08</td>\n",
       "      <td>0</td>\n",
       "      <td>0</td>\n",
       "      <td>0</td>\n",
       "      <td>0</td>\n",
       "      <td>0</td>\n",
       "      <td>0</td>\n",
       "      <td>...</td>\n",
       "      <td>0</td>\n",
       "      <td>0</td>\n",
       "      <td>0</td>\n",
       "      <td>0</td>\n",
       "      <td>0</td>\n",
       "      <td>0</td>\n",
       "      <td>0</td>\n",
       "      <td>0</td>\n",
       "      <td>0</td>\n",
       "      <td>0</td>\n",
       "    </tr>\n",
       "    <tr>\n",
       "      <th>1</th>\n",
       "      <td>78.0</td>\n",
       "      <td>1</td>\n",
       "      <td>460000000.0</td>\n",
       "      <td>2.316795e+09</td>\n",
       "      <td>0</td>\n",
       "      <td>0</td>\n",
       "      <td>0</td>\n",
       "      <td>1</td>\n",
       "      <td>0</td>\n",
       "      <td>0</td>\n",
       "      <td>...</td>\n",
       "      <td>0</td>\n",
       "      <td>0</td>\n",
       "      <td>0</td>\n",
       "      <td>0</td>\n",
       "      <td>0</td>\n",
       "      <td>0</td>\n",
       "      <td>0</td>\n",
       "      <td>0</td>\n",
       "      <td>0</td>\n",
       "      <td>0</td>\n",
       "    </tr>\n",
       "    <tr>\n",
       "      <th>2</th>\n",
       "      <td>76.0</td>\n",
       "      <td>1</td>\n",
       "      <td>100000000.0</td>\n",
       "      <td>7.244590e+08</td>\n",
       "      <td>0</td>\n",
       "      <td>0</td>\n",
       "      <td>1</td>\n",
       "      <td>1</td>\n",
       "      <td>0</td>\n",
       "      <td>0</td>\n",
       "      <td>...</td>\n",
       "      <td>0</td>\n",
       "      <td>0</td>\n",
       "      <td>0</td>\n",
       "      <td>0</td>\n",
       "      <td>0</td>\n",
       "      <td>0</td>\n",
       "      <td>0</td>\n",
       "      <td>0</td>\n",
       "      <td>0</td>\n",
       "      <td>0</td>\n",
       "    </tr>\n",
       "    <tr>\n",
       "      <th>3</th>\n",
       "      <td>70.0</td>\n",
       "      <td>1</td>\n",
       "      <td>12300000.0</td>\n",
       "      <td>3.420000e+07</td>\n",
       "      <td>0</td>\n",
       "      <td>0</td>\n",
       "      <td>1</td>\n",
       "      <td>1</td>\n",
       "      <td>0</td>\n",
       "      <td>0</td>\n",
       "      <td>...</td>\n",
       "      <td>0</td>\n",
       "      <td>0</td>\n",
       "      <td>0</td>\n",
       "      <td>0</td>\n",
       "      <td>0</td>\n",
       "      <td>0</td>\n",
       "      <td>0</td>\n",
       "      <td>0</td>\n",
       "      <td>0</td>\n",
       "      <td>0</td>\n",
       "    </tr>\n",
       "    <tr>\n",
       "      <th>4</th>\n",
       "      <td>61.0</td>\n",
       "      <td>1</td>\n",
       "      <td>77000000.0</td>\n",
       "      <td>3.409420e+08</td>\n",
       "      <td>0</td>\n",
       "      <td>0</td>\n",
       "      <td>0</td>\n",
       "      <td>0</td>\n",
       "      <td>0</td>\n",
       "      <td>0</td>\n",
       "      <td>...</td>\n",
       "      <td>0</td>\n",
       "      <td>0</td>\n",
       "      <td>0</td>\n",
       "      <td>0</td>\n",
       "      <td>0</td>\n",
       "      <td>0</td>\n",
       "      <td>0</td>\n",
       "      <td>0</td>\n",
       "      <td>0</td>\n",
       "      <td>1</td>\n",
       "    </tr>\n",
       "  </tbody>\n",
       "</table>\n",
       "<p>5 rows × 53 columns</p>\n",
       "</div>"
      ],
      "text/plain": [
       "   score  status     budget_x       revenue  Thriller  TV Movie  Fantasy  \\\n",
       "0   73.0       1   75000000.0  2.716167e+08         0         0        0   \n",
       "1   78.0       1  460000000.0  2.316795e+09         0         0        0   \n",
       "2   76.0       1  100000000.0  7.244590e+08         0         0        1   \n",
       "3   70.0       1   12300000.0  3.420000e+07         0         0        1   \n",
       "4   61.0       1   77000000.0  3.409420e+08         0         0        0   \n",
       "\n",
       "   Adventure  Documentary  Crime  ...  country_FR  country_GB  country_HK  \\\n",
       "0          0            0      0  ...           0           0           0   \n",
       "1          1            0      0  ...           0           0           0   \n",
       "2          1            0      0  ...           0           0           0   \n",
       "3          1            0      0  ...           0           0           0   \n",
       "4          0            0      0  ...           0           0           0   \n",
       "\n",
       "   country_IT  country_JP  country_KR  country_MX  country_RU  country_Small  \\\n",
       "0           0           0           0           0           0              0   \n",
       "1           0           0           0           0           0              0   \n",
       "2           0           0           0           0           0              0   \n",
       "3           0           0           0           0           0              0   \n",
       "4           0           0           0           0           0              0   \n",
       "\n",
       "   country_US  \n",
       "0           0  \n",
       "1           0  \n",
       "2           0  \n",
       "3           0  \n",
       "4           1  \n",
       "\n",
       "[5 rows x 53 columns]"
      ]
     },
     "execution_count": 28,
     "metadata": {},
     "output_type": "execute_result"
    }
   ],
   "source": [
    "df_movies.head()"
   ]
  },
  {
   "cell_type": "markdown",
   "id": "bd251133",
   "metadata": {},
   "source": [
    "## Часть 4: Гипотезы"
   ]
  },
  {
   "cell_type": "markdown",
   "id": "062d5525",
   "metadata": {},
   "source": [
    "Используем 5% уровень значимости."
   ]
  },
  {
   "cell_type": "markdown",
   "id": "77454ced",
   "metadata": {},
   "source": [
    "**Гипотеза 1.** Интересно посмотреть, правда ли, что в среднем в США снимают самые кассовые фильмы?\n",
    "\n",
    "\n",
    "$$\n",
    "\\begin{aligned}\n",
    "& H_0: \\mu_{USA} = \\mu_{Other} \\\\\n",
    "& H_1: \\mu_{USA} > \\mu_{Other}\n",
    "\\end{aligned}\n",
    "$$"
   ]
  },
  {
   "cell_type": "code",
   "execution_count": 29,
   "id": "bac80407",
   "metadata": {},
   "outputs": [],
   "source": [
    "df_a = df_movies[df_movies['country_US'] == 1]\n",
    "df_b = df_movies[df_movies['country_US'] == 0]"
   ]
  },
  {
   "cell_type": "markdown",
   "id": "958ba5d3",
   "metadata": {},
   "source": [
    "Проверим выборки на нормальное распределение."
   ]
  },
  {
   "cell_type": "code",
   "execution_count": 30,
   "id": "9130762a",
   "metadata": {},
   "outputs": [
    {
     "name": "stdout",
     "output_type": "stream",
     "text": [
      "0.0\n",
      "0.0\n"
     ]
    }
   ],
   "source": [
    "x, shapiro_a = sts.shapiro(df_a['revenue'])\n",
    "x, shapiro_b = sts.shapiro(df_b['revenue'])\n",
    "\n",
    "print(round(shapiro_a, 3))\n",
    "print(round(shapiro_b, 3))"
   ]
  },
  {
   "cell_type": "markdown",
   "id": "d250deb3",
   "metadata": {},
   "source": [
    "Выборки независимы и без нормального распределения. Используем тест Манна — Уитни."
   ]
  },
  {
   "cell_type": "code",
   "execution_count": 31,
   "id": "e6175a5f",
   "metadata": {},
   "outputs": [
    {
     "name": "stdout",
     "output_type": "stream",
     "text": [
      "p-value: 0.33\n"
     ]
    }
   ],
   "source": [
    "x, p_value = sts.mannwhitneyu(df_a['revenue'], df_b['revenue'], alternative='greater')\n",
    "\n",
    "print('p-value:', round(p_value, 3))"
   ]
  },
  {
   "cell_type": "markdown",
   "id": "f1469e00",
   "metadata": {},
   "source": [
    "Отвергаем нашу гипотезу. Американские фильмы собирают в прокате столько же, сколько и фильмы других стран.\n",
    "\n",
    "**Гипотеза 2.** Правда ли, что в России не умеют снимать хорошее кино?\n",
    "\n",
    "$$\n",
    "\\begin{aligned}\n",
    "& H_0: \\mu_{RU} = \\mu_{Other} \\\\\n",
    "& H_1: \\mu_{RU} < \\mu_{Other}\n",
    "\\end{aligned}\n",
    "$$"
   ]
  },
  {
   "cell_type": "code",
   "execution_count": 32,
   "id": "d32d314f",
   "metadata": {},
   "outputs": [],
   "source": [
    "df_a = df_movies[df_movies['country_RU'] == 1]\n",
    "df_b = df_movies[df_movies['country_RU'] == 0]"
   ]
  },
  {
   "cell_type": "markdown",
   "id": "44978f17",
   "metadata": {},
   "source": [
    "Проверим выборки на нормальное распределение."
   ]
  },
  {
   "cell_type": "code",
   "execution_count": 33,
   "id": "bff598fa",
   "metadata": {},
   "outputs": [
    {
     "name": "stdout",
     "output_type": "stream",
     "text": [
      "0.0\n",
      "0.0\n"
     ]
    }
   ],
   "source": [
    "x, shapiro_a = sts.shapiro(df_a['score'])\n",
    "x, shapiro_b = sts.shapiro(df_b['score'])\n",
    "\n",
    "print(round(shapiro_a, 3))\n",
    "print(round(shapiro_b, 3))"
   ]
  },
  {
   "cell_type": "markdown",
   "id": "89894f2d",
   "metadata": {},
   "source": [
    "Выборки независимы и без нормального распределения. Используем тест Манна — Уитни."
   ]
  },
  {
   "cell_type": "code",
   "execution_count": 34,
   "id": "eb8e0eae",
   "metadata": {},
   "outputs": [
    {
     "name": "stdout",
     "output_type": "stream",
     "text": [
      "p-value: 0.126\n"
     ]
    }
   ],
   "source": [
    "x, p_value = sts.mannwhitneyu(df_a['score'], df_b['score'], alternative='less')\n",
    "\n",
    "print('p-value:', round(p_value, 3))"
   ]
  },
  {
   "cell_type": "markdown",
   "id": "882dcfa4",
   "metadata": {},
   "source": [
    "Отвергаем гипотезу. в России такое же качество фильмов, как и в мире.\n",
    "\n",
    "**Гипотеза 3.** Правда ли, что самые дорогие фильмы снимают в жанре экшена?\n",
    "\n",
    "$$\n",
    "\\begin{aligned}\n",
    "& H_0: \\mu_{action} = \\mu_{other} \\\\\n",
    "& H_1: \\mu_{action} > \\mu_{other}\n",
    "\\end{aligned}\n",
    "$$"
   ]
  },
  {
   "cell_type": "code",
   "execution_count": 35,
   "id": "c0826e19",
   "metadata": {},
   "outputs": [],
   "source": [
    "df_a = df_movies[df_movies['Action'] == 1]\n",
    "df_b = df_movies[df_movies['Action'] == 0]"
   ]
  },
  {
   "cell_type": "markdown",
   "id": "ecf657c6",
   "metadata": {},
   "source": [
    "Проверим выборки на нормальное распределение."
   ]
  },
  {
   "cell_type": "code",
   "execution_count": 36,
   "id": "64a16039",
   "metadata": {},
   "outputs": [
    {
     "name": "stdout",
     "output_type": "stream",
     "text": [
      "0.0\n",
      "0.0\n"
     ]
    }
   ],
   "source": [
    "x, shapiro_a = sts.shapiro(df_a['budget_x'])\n",
    "x, shapiro_b = sts.shapiro(df_b['budget_x'])\n",
    "\n",
    "print(round(shapiro_a, 3))\n",
    "print(round(shapiro_b, 3))"
   ]
  },
  {
   "cell_type": "markdown",
   "id": "701bb203",
   "metadata": {},
   "source": [
    "Выборки независимы и без нормального распределения. Используем тест Манна — Уитни."
   ]
  },
  {
   "cell_type": "code",
   "execution_count": 37,
   "id": "149458b4",
   "metadata": {},
   "outputs": [
    {
     "name": "stdout",
     "output_type": "stream",
     "text": [
      "p-value: 0.0\n"
     ]
    }
   ],
   "source": [
    "x, p_value = sts.mannwhitneyu(df_a['budget_x'], df_b['budget_x'], alternative='greater')\n",
    "\n",
    "print('p-value:', round(p_value, 3))"
   ]
  },
  {
   "cell_type": "markdown",
   "id": "dedefd1a",
   "metadata": {},
   "source": [
    "Подтверждаем гипотезу. Экшен фильмы стоят в производстве дороже, чем другие.\n",
    "\n",
    "**Гипотеза 4.** Правда ли, что есть разница, между оценкой зрителями комедийных и драматических фильмов?\n",
    "\n",
    "$$\n",
    "\\begin{aligned}\n",
    "& H_0: \\mu_{comedy} = \\mu_{drama} \\\\\n",
    "& H_1: \\mu_{comedy} \\neq \\mu_{drama}\n",
    "\\end{aligned}\n",
    "$$"
   ]
  },
  {
   "cell_type": "code",
   "execution_count": 38,
   "id": "00daae81",
   "metadata": {},
   "outputs": [],
   "source": [
    "df_a = df_movies[df_movies['Comedy'] == 1]\n",
    "df_b = df_movies[df_movies['Drama'] == 0]"
   ]
  },
  {
   "cell_type": "markdown",
   "id": "df3d0a16",
   "metadata": {},
   "source": [
    "Проверим выборки на нормальное распределение."
   ]
  },
  {
   "cell_type": "code",
   "execution_count": 39,
   "id": "73bf005e",
   "metadata": {},
   "outputs": [
    {
     "name": "stdout",
     "output_type": "stream",
     "text": [
      "0.0\n",
      "0.0\n"
     ]
    }
   ],
   "source": [
    "x, shapiro_a = sts.shapiro(df_a['score'])\n",
    "x, shapiro_b = sts.shapiro(df_b['score'])\n",
    "\n",
    "print(round(shapiro_a, 3))\n",
    "print(round(shapiro_b, 3))"
   ]
  },
  {
   "cell_type": "markdown",
   "id": "4d932c03",
   "metadata": {},
   "source": [
    "Выборки независимы и без нормального распределения. Используем тест Манна — Уитни."
   ]
  },
  {
   "cell_type": "code",
   "execution_count": 40,
   "id": "13e2305f",
   "metadata": {},
   "outputs": [
    {
     "name": "stdout",
     "output_type": "stream",
     "text": [
      "p-value: 0.0\n"
     ]
    }
   ],
   "source": [
    "x, p_value = sts.mannwhitneyu(df_a['score'], df_b['score'], alternative='two-sided')\n",
    "\n",
    "print('p-value:', round(p_value, 3))"
   ]
  },
  {
   "cell_type": "markdown",
   "id": "e6a7f8ce",
   "metadata": {},
   "source": [
    "Подтверждаем гипотезу. Действительно зрители оценивают комедиии и драмы по-разному.\n",
    "\n",
    "**Гипотеза 5.** Правда ли, что последние 20 лет доля фантастики выросла?\n",
    "\n",
    "$$\n",
    "\\begin{aligned}\n",
    "& H_0: p_{new} = p_{old} \\\\\n",
    "& H_1: p_{new} > p_{old}\n",
    "\\end{aligned}\n",
    "$$"
   ]
  },
  {
   "cell_type": "code",
   "execution_count": 44,
   "id": "13724679",
   "metadata": {},
   "outputs": [],
   "source": [
    "df_a = df_movies[df_movies['age'] <= 20]\n",
    "df_b = df_movies[df_movies['age'] > 20]"
   ]
  },
  {
   "cell_type": "markdown",
   "id": "8e9f3dc6",
   "metadata": {},
   "source": [
    "Используем z-тест для разности долей."
   ]
  },
  {
   "cell_type": "code",
   "execution_count": 45,
   "id": "07302c96",
   "metadata": {},
   "outputs": [
    {
     "name": "stdout",
     "output_type": "stream",
     "text": [
      "p-value: 0.546\n"
     ]
    }
   ],
   "source": [
    "x, p_value = proportions_ztest([df_a['Fantasy'].sum(), df_b['Fantasy'].sum()], [len(df_a), len(df_b)])\n",
    "\n",
    "print('p-value:', round(p_value, 3))"
   ]
  },
  {
   "cell_type": "code",
   "execution_count": 46,
   "id": "2de966f4",
   "metadata": {},
   "outputs": [
    {
     "name": "stdout",
     "output_type": "stream",
     "text": [
      "0.137 0.132\n"
     ]
    }
   ],
   "source": [
    "p1 = df_a['Fantasy'].mean()\n",
    "p2 = df_b['Fantasy'].mean()\n",
    "\n",
    "print(round(p1, 3), round(p2, 3))"
   ]
  },
  {
   "cell_type": "markdown",
   "id": "d7d036b4",
   "metadata": {},
   "source": [
    "Отвергаем гипотезу гипотезу. Доля фантастики не изменилась.\n",
    "\n",
    "**Гипотеза 6.** Проверим гипотезу, что наличие популярных актеров в фильме увеличивает сборы.\n",
    "\n",
    "$$\n",
    "\\begin{aligned}\n",
    "& H_0: \\mu_{popular} = \\mu_{unpopular} \\\\\n",
    "& H_1: \\mu_{popular} > \\mu_{unpopular}\n",
    "\\end{aligned}\n",
    "$$"
   ]
  },
  {
   "cell_type": "code",
   "execution_count": 47,
   "id": "88979d7e",
   "metadata": {},
   "outputs": [],
   "source": [
    "df_a = df_movies[df_movies['n_famous'] > 0]\n",
    "df_b = df_movies[df_movies['n_famous'] == 0]"
   ]
  },
  {
   "cell_type": "markdown",
   "id": "4307d401",
   "metadata": {},
   "source": [
    "Проверим выборки на нормальное распределение."
   ]
  },
  {
   "cell_type": "code",
   "execution_count": 48,
   "id": "9818a472",
   "metadata": {},
   "outputs": [
    {
     "name": "stdout",
     "output_type": "stream",
     "text": [
      "0.0\n",
      "0.0\n"
     ]
    }
   ],
   "source": [
    "x, shapiro_a = sts.shapiro(df_a['revenue'])\n",
    "x, shapiro_b = sts.shapiro(df_b['revenue'])\n",
    "\n",
    "print(round(shapiro_a, 3))\n",
    "print(round(shapiro_b, 3))"
   ]
  },
  {
   "cell_type": "markdown",
   "id": "ac7b46ba",
   "metadata": {},
   "source": [
    "Выборки независимы и без нормального распределения. Используем тест Манна — Уитни."
   ]
  },
  {
   "cell_type": "code",
   "execution_count": 49,
   "id": "883d2e9c",
   "metadata": {},
   "outputs": [
    {
     "name": "stdout",
     "output_type": "stream",
     "text": [
      "p-value: 1.0\n"
     ]
    }
   ],
   "source": [
    "x, p_value = sts.mannwhitneyu(df_a['revenue'], df_b['revenue'], alternative='greater')\n",
    "\n",
    "print('p-value:', round(p_value, 3))"
   ]
  },
  {
   "cell_type": "markdown",
   "id": "a9aeac7f",
   "metadata": {},
   "source": [
    "Отвергаем гипотезу. Известные актеры не приносят дополнительных сборов.\n",
    "\n",
    "**Гипотеза 7.** Правда ли, что *авторское* кино нравится зрителям больше?\n",
    "\n",
    "$$\n",
    "\\begin{aligned}\n",
    "& H_0: \\mu_{author} = \\mu_{commerce} \\\\\n",
    "& H_1: \\mu_{author} > \\mu_{commerce}\n",
    "\\end{aligned}\n",
    "$$"
   ]
  },
  {
   "cell_type": "code",
   "execution_count": 50,
   "id": "f4b65c33",
   "metadata": {},
   "outputs": [],
   "source": [
    "df_a = df_movies[df_movies['is_author_cinema'] == 1]\n",
    "df_b = df_movies[df_movies['is_author_cinema'] == 0]"
   ]
  },
  {
   "cell_type": "markdown",
   "id": "56bd4f4f",
   "metadata": {},
   "source": [
    "Проверим выборки на нормальное распределение."
   ]
  },
  {
   "cell_type": "code",
   "execution_count": 51,
   "id": "2b09b84d",
   "metadata": {},
   "outputs": [
    {
     "name": "stdout",
     "output_type": "stream",
     "text": [
      "0.0\n",
      "0.0\n"
     ]
    }
   ],
   "source": [
    "x, shapiro_a = sts.shapiro(df_a['score'])\n",
    "x, shapiro_b = sts.shapiro(df_b['score'])\n",
    "\n",
    "print(round(shapiro_a, 3))\n",
    "print(round(shapiro_b, 3))"
   ]
  },
  {
   "cell_type": "markdown",
   "id": "c0ced90e",
   "metadata": {},
   "source": [
    "Выборки независимы и без нормального распределения. Используем тест Манна — Уитни."
   ]
  },
  {
   "cell_type": "code",
   "execution_count": 52,
   "id": "e5826265",
   "metadata": {},
   "outputs": [
    {
     "name": "stdout",
     "output_type": "stream",
     "text": [
      "p-value: 0.0\n"
     ]
    }
   ],
   "source": [
    "x, p_value = sts.mannwhitneyu(df_a['score'], df_b['score'], alternative='greater')\n",
    "\n",
    "print('p-value:', round(p_value, 3))"
   ]
  },
  {
   "cell_type": "markdown",
   "id": "cf1b930c",
   "metadata": {},
   "source": [
    "Подтверждаем гипотезу. У авторского кино оценки выше."
   ]
  },
  {
   "cell_type": "markdown",
   "id": "639470ad",
   "metadata": {},
   "source": [
    "## Часть 5: Машинное обучение ##\n",
    "\n",
    "Будем предсказывать выручку фильмов, для оценки качества моделей возьмем MAPE.\n",
    "\n",
    "Разобьем данные на обучающие и тестовые и разобьем переменные на независимые и зависимую."
   ]
  },
  {
   "cell_type": "code",
   "execution_count": 53,
   "id": "74dd172a",
   "metadata": {},
   "outputs": [],
   "source": [
    "train_df, test_df = train_test_split(df_movies, test_size=0.2, random_state=5)\n",
    "\n",
    "X_train = train_df.drop(columns=['revenue'])\n",
    "y_train = train_df['revenue']\n",
    "\n",
    "X_test = test_df.drop(columns=['revenue'])\n",
    "y_test = test_df['revenue']"
   ]
  },
  {
   "cell_type": "markdown",
   "id": "98ec7421",
   "metadata": {},
   "source": [
    "Масштабируем данные, используя standar scaler."
   ]
  },
  {
   "cell_type": "code",
   "execution_count": 54,
   "id": "74959d64",
   "metadata": {},
   "outputs": [],
   "source": [
    "scale = StandardScaler()\n",
    "X_train_scale = pd.DataFrame(scale.fit_transform(X_train), columns=X_train.columns, index=X_train.index)\n",
    "X_test_scale = pd.DataFrame(scale.fit_transform(X_test), columns=X_train.columns, index=X_test.index)"
   ]
  },
  {
   "cell_type": "markdown",
   "id": "4ede6831",
   "metadata": {},
   "source": [
    "Создаем линейную регрессию и считаем качество модели."
   ]
  },
  {
   "cell_type": "code",
   "execution_count": 55,
   "id": "f56d5616",
   "metadata": {},
   "outputs": [
    {
     "name": "stdout",
     "output_type": "stream",
     "text": [
      "688053424392218640910051755163648\n"
     ]
    }
   ],
   "source": [
    "lr = LinearRegression()\n",
    "lr.fit(X_train_scale, y_train)\n",
    "\n",
    "y_pred = lr.predict(X_test_scale)\n",
    "\n",
    "print(round(mean_absolute_percentage_error(y_test, y_pred)))"
   ]
  },
  {
   "cell_type": "markdown",
   "id": "30bf393b",
   "metadata": {},
   "source": [
    "Очевидно нужно использовать не линейные модели, а случайный лес или градиентный бустинг."
   ]
  },
  {
   "cell_type": "code",
   "execution_count": 56,
   "id": "82a7947f",
   "metadata": {},
   "outputs": [
    {
     "name": "stdout",
     "output_type": "stream",
     "text": [
      "6389247239180322340864\n"
     ]
    }
   ],
   "source": [
    "rfr = RandomForestRegressor()\n",
    "rfr.fit(X_train_scale, y_train)\n",
    "\n",
    "y_pred = rfr.predict(X_test_scale)\n",
    "\n",
    "print(round(mean_absolute_percentage_error(y_test, y_pred)))"
   ]
  }
 ],
 "metadata": {
  "colab": {
   "provenance": []
  },
  "kernelspec": {
   "display_name": "Python 3 (ipykernel)",
   "language": "python",
   "name": "python3"
  },
  "language_info": {
   "codemirror_mode": {
    "name": "ipython",
    "version": 3
   },
   "file_extension": ".py",
   "mimetype": "text/x-python",
   "name": "python",
   "nbconvert_exporter": "python",
   "pygments_lexer": "ipython3",
   "version": "3.9.12"
  }
 },
 "nbformat": 4,
 "nbformat_minor": 5
}
